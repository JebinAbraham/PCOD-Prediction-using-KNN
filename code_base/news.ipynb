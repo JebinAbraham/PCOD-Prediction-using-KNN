{
 "cells": [
  {
   "cell_type": "code",
   "execution_count": null,
   "metadata": {},
   "outputs": [],
   "source": []
  },
  {
   "cell_type": "code",
   "execution_count": 13,
   "metadata": {},
   "outputs": [
    {
     "name": "stdout",
     "output_type": "stream",
     "text": [
      "                                               title  \\\n",
      "0  Polycystic Ovarian Syndrome (PCOS): The Many W...   \n",
      "1  Preventing the development of polycystic ovary...   \n",
      "2                     What’s the best diet for PCOS?   \n",
      "3    The gender health gap makes people's lives hell   \n",
      "4  A session on PCOD & menopause organised by PSR...   \n",
      "\n",
      "                      media         date datetime  \\\n",
      "0               Doctor NDTV  12-Jul-2021     None   \n",
      "1            Medical Xpress  12-Jul-2021     None   \n",
      "2  Lifestyle Asia Hong Kong  12-Jul-2021     None   \n",
      "3                  Mashable  08-Jul-2021     None   \n",
      "4                CitySpidey  08-Jul-2021     None   \n",
      "\n",
      "                                                desc  \\\n",
      "0  PCOS or Polycystic Ovarian Syndrome is a commo...   \n",
      "1  In a recently published review article in Natu...   \n",
      "2  Affecting roughly 10 per cent of women of repr...   \n",
      "3  Blood, pain, frustration, loneliness, hopeless...   \n",
      "4  On Wednesday, PSRI Hospital organised an onlin...   \n",
      "\n",
      "                                                link  \\\n",
      "0  https://doctor.ndtv.com/living-healthy/polycys...   \n",
      "1  https://medicalxpress.com/news/2021-07-polycys...   \n",
      "2  https://www.lifestyleasia.com/hk/living/wellne...   \n",
      "3  https://mashable.com/article/living-with-gynae...   \n",
      "4  https://www.cityspidey.com/news/14133/a-sessio...   \n",
      "\n",
      "                                                 img  \n",
      "0  data:image/gif;base64,R0lGODlhAQABAIAAAP//////...  \n",
      "1  data:image/gif;base64,R0lGODlhAQABAIAAAP//////...  \n",
      "2  data:image/gif;base64,R0lGODlhAQABAIAAAP//////...  \n",
      "3  data:image/gif;base64,R0lGODlhAQABAIAAAP//////...  \n",
      "4  data:image/gif;base64,R0lGODlhAQABAIAAAP//////...  \n"
     ]
    },
    {
     "name": "stderr",
     "output_type": "stream",
     "text": [
      "C:\\Users\\Jebin\\anaconda3\\lib\\site-packages\\dateparser\\date_parser.py:35: PytzUsageWarning: The localize method is no longer necessary, as this time zone supports the fold attribute (PEP 495). For more details on migrating to a PEP 495-compliant implementation, see https://pytz-deprecation-shim.readthedocs.io/en/latest/migration.html\n",
      "  date_obj = stz.localize(date_obj)\n"
     ]
    }
   ],
   "source": [
    "from GoogleNews import GoogleNews\n",
    "from newspaper import Article\n",
    "import pandas as pd\n",
    "\n",
    "googlenews=GoogleNews(start='05/01/2017',end='07/12/2021')\n",
    "googlenews.search('Polycystic Ovarian Disease')\n",
    "result=googlenews.result()\n",
    "desc = googlenews.get_texts()\n",
    "df=pd.DataFrame(result)\n",
    "desc_pd = pd.DataFrame(desc)\n",
    "print(df.head())"
   ]
  },
  {
   "cell_type": "code",
   "execution_count": 14,
   "metadata": {},
   "outputs": [
    {
     "data": {
      "text/plain": [
       "Index(['title', 'media', 'date', 'datetime', 'desc', 'link', 'img'], dtype='object')"
      ]
     },
     "execution_count": 14,
     "metadata": {},
     "output_type": "execute_result"
    }
   ],
   "source": [
    "df.columns"
   ]
  },
  {
   "cell_type": "code",
   "execution_count": 15,
   "metadata": {},
   "outputs": [
    {
     "name": "stdout",
     "output_type": "stream",
     "text": [
      "https://medicalxpress.com/news/2021-07-polycystic-ovary-syndrome.html\n"
     ]
    }
   ],
   "source": [
    "print(df.link[1])\n"
   ]
  }
 ],
 "metadata": {
  "interpreter": {
   "hash": "3f169d1daaabc216d90829cc431b24e41c36bcf9511a4dc63c7d6f8e39aa3680"
  },
  "kernelspec": {
   "display_name": "Python 3.8.8 64-bit ('base': conda)",
   "name": "python3"
  },
  "language_info": {
   "codemirror_mode": {
    "name": "ipython",
    "version": 3
   },
   "file_extension": ".py",
   "mimetype": "text/x-python",
   "name": "python",
   "nbconvert_exporter": "python",
   "pygments_lexer": "ipython3",
   "version": "3.8.8"
  },
  "orig_nbformat": 4
 },
 "nbformat": 4,
 "nbformat_minor": 2
}
